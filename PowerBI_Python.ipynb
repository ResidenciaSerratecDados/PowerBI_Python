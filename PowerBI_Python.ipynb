{
  "nbformat": 4,
  "nbformat_minor": 0,
  "metadata": {
    "colab": {
      "provenance": []
    },
    "kernelspec": {
      "name": "python3",
      "display_name": "Python 3"
    },
    "language_info": {
      "name": "python"
    }
  },
  "cells": [
    {
      "cell_type": "code",
      "source": [
        "!pip install xlsxwriter"
      ],
      "metadata": {
        "colab": {
          "base_uri": "https://localhost:8080/"
        },
        "id": "Pulc2OVsH_Nd",
        "outputId": "80cc3fe7-e7e6-4c9d-e995-54ddda3e07f1"
      },
      "execution_count": null,
      "outputs": [
        {
          "output_type": "stream",
          "name": "stdout",
          "text": [
            "Collecting xlsxwriter\n",
            "  Downloading XlsxWriter-3.2.3-py3-none-any.whl.metadata (2.7 kB)\n",
            "Downloading XlsxWriter-3.2.3-py3-none-any.whl (169 kB)\n",
            "\u001b[?25l   \u001b[90m━━━━━━━━━━━━━━━━━━━━━━━━━━━━━━━━━━━━━━━━\u001b[0m \u001b[32m0.0/169.4 kB\u001b[0m \u001b[31m?\u001b[0m eta \u001b[36m-:--:--\u001b[0m\r\u001b[2K   \u001b[91m━━━━━━━━━━━━━━━━\u001b[0m\u001b[91m╸\u001b[0m\u001b[90m━━━━━━━━━━━━━━━━━━━━━━━\u001b[0m \u001b[32m71.7/169.4 kB\u001b[0m \u001b[31m2.2 MB/s\u001b[0m eta \u001b[36m0:00:01\u001b[0m\r\u001b[2K   \u001b[90m━━━━━━━━━━━━━━━━━━━━━━━━━━━━━━━━━━━━━━━━\u001b[0m \u001b[32m169.4/169.4 kB\u001b[0m \u001b[31m2.8 MB/s\u001b[0m eta \u001b[36m0:00:00\u001b[0m\n",
            "\u001b[?25hInstalling collected packages: xlsxwriter\n",
            "Successfully installed xlsxwriter-3.2.3\n"
          ]
        }
      ]
    },
    {
      "cell_type": "code",
      "execution_count": 46,
      "metadata": {
        "id": "2F9nVCBJEgYh"
      },
      "outputs": [],
      "source": [
        "import polars as pl\n",
        "import xlsxwriter\n",
        "import pandas as pd"
      ]
    },
    {
      "cell_type": "code",
      "source": [
        "boletim = pl.read_csv('boletim.csv', separator=';')\n",
        "display(boletim.head(6))"
      ],
      "metadata": {
        "colab": {
          "base_uri": "https://localhost:8080/",
          "height": 286
        },
        "id": "3OJrM_sNFM9Y",
        "outputId": "753a0896-b201-4bcc-e7f4-bdabb9d74bf8"
      },
      "execution_count": 27,
      "outputs": [
        {
          "output_type": "display_data",
          "data": {
            "text/plain": [
              "shape: (6, 5)\n",
              "┌────────────┬───────┬───────┬───────┬───────┐\n",
              "│ Disciplina ┆ nota1 ┆ nota2 ┆ nota3 ┆ nota4 │\n",
              "│ ---        ┆ ---   ┆ ---   ┆ ---   ┆ ---   │\n",
              "│ str        ┆ i64   ┆ i64   ┆ i64   ┆ i64   │\n",
              "╞════════════╪═══════╪═══════╪═══════╪═══════╡\n",
              "│ matemática ┆ 8     ┆ 9     ┆ 8     ┆ 5     │\n",
              "│ portugues  ┆ 5     ┆ 6     ┆ 7     ┆ 7     │\n",
              "│ ingles     ┆ 7     ┆ 8     ┆ 8     ┆ 5     │\n",
              "│ geografica ┆ 5     ┆ 5     ┆ 7     ┆ 7     │\n",
              "│ quimica    ┆ 8     ┆ 7     ┆ 6     ┆ 5     │\n",
              "│ biologia   ┆ 6     ┆ 5     ┆ 8     ┆ 7     │\n",
              "└────────────┴───────┴───────┴───────┴───────┘"
            ],
            "text/html": [
              "<div><style>\n",
              ".dataframe > thead > tr,\n",
              ".dataframe > tbody > tr {\n",
              "  text-align: right;\n",
              "  white-space: pre-wrap;\n",
              "}\n",
              "</style>\n",
              "<small>shape: (6, 5)</small><table border=\"1\" class=\"dataframe\"><thead><tr><th>Disciplina</th><th>nota1</th><th>nota2</th><th>nota3</th><th>nota4</th></tr><tr><td>str</td><td>i64</td><td>i64</td><td>i64</td><td>i64</td></tr></thead><tbody><tr><td>&quot;matemática&quot;</td><td>8</td><td>9</td><td>8</td><td>5</td></tr><tr><td>&quot;portugues&quot;</td><td>5</td><td>6</td><td>7</td><td>7</td></tr><tr><td>&quot;ingles&quot;</td><td>7</td><td>8</td><td>8</td><td>5</td></tr><tr><td>&quot;geografica&quot;</td><td>5</td><td>5</td><td>7</td><td>7</td></tr><tr><td>&quot;quimica&quot;</td><td>8</td><td>7</td><td>6</td><td>5</td></tr><tr><td>&quot;biologia&quot;</td><td>6</td><td>5</td><td>8</td><td>7</td></tr></tbody></table></div>"
            ]
          },
          "metadata": {}
        }
      ]
    },
    {
      "cell_type": "code",
      "source": [
        "boletim = boletim.with_columns(\n",
        "    (pl.col('nota1') + pl.col('nota2') + pl.col('nota3') + pl.col('nota4')).alias('Total'),\n",
        "    (pl.col('Total') / 4).alias('Média')\n",
        ")\n",
        "display(boletim.head(6))"
      ],
      "metadata": {
        "colab": {
          "base_uri": "https://localhost:8080/",
          "height": 286
        },
        "id": "DKrMREfTFuyA",
        "outputId": "a8bf322e-6735-4e6d-dd8a-436d2ec3f0ca"
      },
      "execution_count": null,
      "outputs": [
        {
          "output_type": "display_data",
          "data": {
            "text/plain": [
              "shape: (6, 7)\n",
              "┌────────────┬───────┬───────┬───────┬───────┬───────┬───────┐\n",
              "│ Disciplina ┆ nota1 ┆ nota2 ┆ nota3 ┆ nota4 ┆ Total ┆ Média │\n",
              "│ ---        ┆ ---   ┆ ---   ┆ ---   ┆ ---   ┆ ---   ┆ ---   │\n",
              "│ str        ┆ i64   ┆ i64   ┆ i64   ┆ i64   ┆ i64   ┆ f64   │\n",
              "╞════════════╪═══════╪═══════╪═══════╪═══════╪═══════╪═══════╡\n",
              "│ matemática ┆ 8     ┆ 9     ┆ 8     ┆ 5     ┆ 30    ┆ 7.5   │\n",
              "│ portugues  ┆ 5     ┆ 6     ┆ 7     ┆ 7     ┆ 25    ┆ 6.25  │\n",
              "│ ingles     ┆ 7     ┆ 8     ┆ 8     ┆ 5     ┆ 28    ┆ 7.0   │\n",
              "│ geografica ┆ 5     ┆ 5     ┆ 7     ┆ 7     ┆ 24    ┆ 6.0   │\n",
              "│ quimica    ┆ 8     ┆ 7     ┆ 6     ┆ 5     ┆ 26    ┆ 6.5   │\n",
              "│ biologia   ┆ 6     ┆ 5     ┆ 8     ┆ 7     ┆ 26    ┆ 6.5   │\n",
              "└────────────┴───────┴───────┴───────┴───────┴───────┴───────┘"
            ],
            "text/html": [
              "<div><style>\n",
              ".dataframe > thead > tr,\n",
              ".dataframe > tbody > tr {\n",
              "  text-align: right;\n",
              "  white-space: pre-wrap;\n",
              "}\n",
              "</style>\n",
              "<small>shape: (6, 7)</small><table border=\"1\" class=\"dataframe\"><thead><tr><th>Disciplina</th><th>nota1</th><th>nota2</th><th>nota3</th><th>nota4</th><th>Total</th><th>Média</th></tr><tr><td>str</td><td>i64</td><td>i64</td><td>i64</td><td>i64</td><td>i64</td><td>f64</td></tr></thead><tbody><tr><td>&quot;matemática&quot;</td><td>8</td><td>9</td><td>8</td><td>5</td><td>30</td><td>7.5</td></tr><tr><td>&quot;portugues&quot;</td><td>5</td><td>6</td><td>7</td><td>7</td><td>25</td><td>6.25</td></tr><tr><td>&quot;ingles&quot;</td><td>7</td><td>8</td><td>8</td><td>5</td><td>28</td><td>7.0</td></tr><tr><td>&quot;geografica&quot;</td><td>5</td><td>5</td><td>7</td><td>7</td><td>24</td><td>6.0</td></tr><tr><td>&quot;quimica&quot;</td><td>8</td><td>7</td><td>6</td><td>5</td><td>26</td><td>6.5</td></tr><tr><td>&quot;biologia&quot;</td><td>6</td><td>5</td><td>8</td><td>7</td><td>26</td><td>6.5</td></tr></tbody></table></div>"
            ]
          },
          "metadata": {}
        }
      ]
    },
    {
      "cell_type": "code",
      "source": [
        "boletim = boletim.with_columns(\n",
        "    pl.when(pl.col('Média') >= 7)\n",
        "    .then(pl.lit('Aprovado'))\n",
        "    .otherwise(pl.lit('Reprovado'))\n",
        "    .alias('Situação')\n",
        ")\n",
        "display(boletim.head(6))"
      ],
      "metadata": {
        "colab": {
          "base_uri": "https://localhost:8080/",
          "height": 286
        },
        "id": "yXPZ8j3fGrn-",
        "outputId": "ae780c7a-20a1-49dd-8ea3-16d01fa17a97"
      },
      "execution_count": null,
      "outputs": [
        {
          "output_type": "display_data",
          "data": {
            "text/plain": [
              "shape: (6, 8)\n",
              "┌────────────┬───────┬───────┬───────┬───────┬───────┬───────┬───────────┐\n",
              "│ Disciplina ┆ nota1 ┆ nota2 ┆ nota3 ┆ nota4 ┆ Total ┆ Média ┆ Situação  │\n",
              "│ ---        ┆ ---   ┆ ---   ┆ ---   ┆ ---   ┆ ---   ┆ ---   ┆ ---       │\n",
              "│ str        ┆ i64   ┆ i64   ┆ i64   ┆ i64   ┆ i64   ┆ f64   ┆ str       │\n",
              "╞════════════╪═══════╪═══════╪═══════╪═══════╪═══════╪═══════╪═══════════╡\n",
              "│ matemática ┆ 8     ┆ 9     ┆ 8     ┆ 5     ┆ 30    ┆ 7.5   ┆ Aprovado  │\n",
              "│ portugues  ┆ 5     ┆ 6     ┆ 7     ┆ 7     ┆ 25    ┆ 6.25  ┆ Reprovado │\n",
              "│ ingles     ┆ 7     ┆ 8     ┆ 8     ┆ 5     ┆ 28    ┆ 7.0   ┆ Aprovado  │\n",
              "│ geografica ┆ 5     ┆ 5     ┆ 7     ┆ 7     ┆ 24    ┆ 6.0   ┆ Reprovado │\n",
              "│ quimica    ┆ 8     ┆ 7     ┆ 6     ┆ 5     ┆ 26    ┆ 6.5   ┆ Reprovado │\n",
              "│ biologia   ┆ 6     ┆ 5     ┆ 8     ┆ 7     ┆ 26    ┆ 6.5   ┆ Reprovado │\n",
              "└────────────┴───────┴───────┴───────┴───────┴───────┴───────┴───────────┘"
            ],
            "text/html": [
              "<div><style>\n",
              ".dataframe > thead > tr,\n",
              ".dataframe > tbody > tr {\n",
              "  text-align: right;\n",
              "  white-space: pre-wrap;\n",
              "}\n",
              "</style>\n",
              "<small>shape: (6, 8)</small><table border=\"1\" class=\"dataframe\"><thead><tr><th>Disciplina</th><th>nota1</th><th>nota2</th><th>nota3</th><th>nota4</th><th>Total</th><th>Média</th><th>Situação</th></tr><tr><td>str</td><td>i64</td><td>i64</td><td>i64</td><td>i64</td><td>i64</td><td>f64</td><td>str</td></tr></thead><tbody><tr><td>&quot;matemática&quot;</td><td>8</td><td>9</td><td>8</td><td>5</td><td>30</td><td>7.5</td><td>&quot;Aprovado&quot;</td></tr><tr><td>&quot;portugues&quot;</td><td>5</td><td>6</td><td>7</td><td>7</td><td>25</td><td>6.25</td><td>&quot;Reprovado&quot;</td></tr><tr><td>&quot;ingles&quot;</td><td>7</td><td>8</td><td>8</td><td>5</td><td>28</td><td>7.0</td><td>&quot;Aprovado&quot;</td></tr><tr><td>&quot;geografica&quot;</td><td>5</td><td>5</td><td>7</td><td>7</td><td>24</td><td>6.0</td><td>&quot;Reprovado&quot;</td></tr><tr><td>&quot;quimica&quot;</td><td>8</td><td>7</td><td>6</td><td>5</td><td>26</td><td>6.5</td><td>&quot;Reprovado&quot;</td></tr><tr><td>&quot;biologia&quot;</td><td>6</td><td>5</td><td>8</td><td>7</td><td>26</td><td>6.5</td><td>&quot;Reprovado&quot;</td></tr></tbody></table></div>"
            ]
          },
          "metadata": {}
        }
      ]
    },
    {
      "cell_type": "code",
      "source": [
        "# Use pl.write_excel to export to Excel\n",
        "boletim.write_excel('boletim.xlsx', include_header=True)"
      ],
      "metadata": {
        "colab": {
          "base_uri": "https://localhost:8080/"
        },
        "id": "6jwv13H9HeVQ",
        "outputId": "7b97744f-3134-4b0d-e2d0-0753eac39d5c"
      },
      "execution_count": null,
      "outputs": [
        {
          "output_type": "execute_result",
          "data": {
            "text/plain": [
              "<xlsxwriter.workbook.Workbook at 0x7fed20727750>"
            ]
          },
          "metadata": {},
          "execution_count": 26
        }
      ]
    },
    {
      "cell_type": "code",
      "source": [
        "vendas = pd.read_csv('baseaula2.csv', separator=';')\n",
        "print(vendas.columns)"
      ],
      "metadata": {
        "id": "_-v9zY4dd8Ec",
        "colab": {
          "base_uri": "https://localhost:8080/",
          "height": 162
        },
        "outputId": "06db70ca-a3cb-47d4-e367-2f74dd7c5cf1"
      },
      "execution_count": 47,
      "outputs": [
        {
          "output_type": "error",
          "ename": "TypeError",
          "evalue": "read_csv() got an unexpected keyword argument 'separator'",
          "traceback": [
            "\u001b[0;31m---------------------------------------------------------------------------\u001b[0m",
            "\u001b[0;31mTypeError\u001b[0m                                 Traceback (most recent call last)",
            "\u001b[0;32m<ipython-input-47-122de696147d>\u001b[0m in \u001b[0;36m<cell line: 0>\u001b[0;34m()\u001b[0m\n\u001b[0;32m----> 1\u001b[0;31m \u001b[0mvendas\u001b[0m \u001b[0;34m=\u001b[0m \u001b[0mpd\u001b[0m\u001b[0;34m.\u001b[0m\u001b[0mread_csv\u001b[0m\u001b[0;34m(\u001b[0m\u001b[0;34m'baseaula2.csv'\u001b[0m\u001b[0;34m,\u001b[0m \u001b[0mseparator\u001b[0m\u001b[0;34m=\u001b[0m\u001b[0;34m';'\u001b[0m\u001b[0;34m)\u001b[0m\u001b[0;34m\u001b[0m\u001b[0;34m\u001b[0m\u001b[0m\n\u001b[0m\u001b[1;32m      2\u001b[0m \u001b[0mprint\u001b[0m\u001b[0;34m(\u001b[0m\u001b[0mvendas\u001b[0m\u001b[0;34m.\u001b[0m\u001b[0mcolumns\u001b[0m\u001b[0;34m)\u001b[0m\u001b[0;34m\u001b[0m\u001b[0;34m\u001b[0m\u001b[0m\n",
            "\u001b[0;31mTypeError\u001b[0m: read_csv() got an unexpected keyword argument 'separator'"
          ]
        }
      ]
    },
    {
      "cell_type": "code",
      "source": [
        "# Converter Data da Coleta para date\n",
        "vendas['Data_Pedido'] = pd.to_datetime(vendas['Data_Pedido'], format='%d/%m/%Y')\n",
        "\n",
        "#Converter valoor de venda para float\n",
        "vendas['Valor de Venda'] = vendas['Valor de Venda'].str.replace(',', '.').astype(float)"
      ],
      "metadata": {
        "colab": {
          "base_uri": "https://localhost:8080/",
          "height": 472
        },
        "id": "AzKbnI4LfwoL",
        "outputId": "cb6e719c-05e6-42fe-a9cb-5d0d707de52f"
      },
      "execution_count": 45,
      "outputs": [
        {
          "output_type": "error",
          "ename": "InvalidOperationError",
          "evalue": "conversion from `str` to `datetime[μs]` failed in column 'Data_Pedido' for 1592 out of 1592 values: [\"2012-07-31 00:00:00.000000\", \"2013-02-05 00:00:00.000000\", … \"2012-08-09 00:00:00.000000\"]\n\nYou might want to try:\n- setting `strict=False` to set values that cannot be converted to `null`\n- using `str.strptime`, `str.to_date`, or `str.to_datetime` and providing a format string",
          "traceback": [
            "\u001b[0;31m---------------------------------------------------------------------------\u001b[0m",
            "\u001b[0;31mInvalidOperationError\u001b[0m                     Traceback (most recent call last)",
            "\u001b[0;32m<ipython-input-45-eec4d9b6b5c5>\u001b[0m in \u001b[0;36m<cell line: 0>\u001b[0;34m()\u001b[0m\n\u001b[1;32m      1\u001b[0m \u001b[0;31m# Converter Data da Coleta para date\u001b[0m\u001b[0;34m\u001b[0m\u001b[0;34m\u001b[0m\u001b[0m\n\u001b[1;32m      2\u001b[0m \u001b[0;31m# Use the strptime method on the column for string-to-datetime conversion\u001b[0m\u001b[0;34m\u001b[0m\u001b[0;34m\u001b[0m\u001b[0m\n\u001b[0;32m----> 3\u001b[0;31m vendas = vendas.with_columns(\n\u001b[0m\u001b[1;32m      4\u001b[0m     \u001b[0mpl\u001b[0m\u001b[0;34m.\u001b[0m\u001b[0mcol\u001b[0m\u001b[0;34m(\u001b[0m\u001b[0;34m'Data_Pedido'\u001b[0m\u001b[0;34m)\u001b[0m\u001b[0;34m.\u001b[0m\u001b[0mcast\u001b[0m\u001b[0;34m(\u001b[0m\u001b[0mpl\u001b[0m\u001b[0;34m.\u001b[0m\u001b[0mUtf8\u001b[0m\u001b[0;34m)\u001b[0m\u001b[0;34m.\u001b[0m\u001b[0mstr\u001b[0m\u001b[0;34m.\u001b[0m\u001b[0mstrptime\u001b[0m\u001b[0;34m(\u001b[0m\u001b[0mpl\u001b[0m\u001b[0;34m.\u001b[0m\u001b[0mDatetime\u001b[0m\u001b[0;34m,\u001b[0m \u001b[0mformat\u001b[0m\u001b[0;34m=\u001b[0m\u001b[0;34m'%d/%m/%Y'\u001b[0m\u001b[0;34m)\u001b[0m\u001b[0;34m.\u001b[0m\u001b[0malias\u001b[0m\u001b[0;34m(\u001b[0m\u001b[0;34m'Data_Pedido'\u001b[0m\u001b[0;34m)\u001b[0m\u001b[0;34m\u001b[0m\u001b[0;34m\u001b[0m\u001b[0m\n\u001b[1;32m      5\u001b[0m )\n",
            "\u001b[0;32m/usr/local/lib/python3.11/dist-packages/polars/dataframe/frame.py\u001b[0m in \u001b[0;36mwith_columns\u001b[0;34m(self, *exprs, **named_exprs)\u001b[0m\n\u001b[1;32m   9584\u001b[0m         \u001b[0;31m└\u001b[0m\u001b[0;31m─\u001b[0m\u001b[0;31m─\u001b[0m\u001b[0;31m─\u001b[0m\u001b[0;31m─\u001b[0m\u001b[0;31m─\u001b[0m\u001b[0;31m┴\u001b[0m\u001b[0;31m─\u001b[0m\u001b[0;31m─\u001b[0m\u001b[0;31m─\u001b[0m\u001b[0;31m─\u001b[0m\u001b[0;31m─\u001b[0m\u001b[0;31m─\u001b[0m\u001b[0;31m┴\u001b[0m\u001b[0;31m─\u001b[0m\u001b[0;31m─\u001b[0m\u001b[0;31m─\u001b[0m\u001b[0;31m─\u001b[0m\u001b[0;31m─\u001b[0m\u001b[0;31m─\u001b[0m\u001b[0;31m─\u001b[0m\u001b[0;31m─\u001b[0m\u001b[0;31m─\u001b[0m\u001b[0;31m─\u001b[0m\u001b[0;31m─\u001b[0m\u001b[0;31m─\u001b[0m\u001b[0;31m─\u001b[0m\u001b[0;31m┘\u001b[0m\u001b[0;34m\u001b[0m\u001b[0;34m\u001b[0m\u001b[0m\n\u001b[1;32m   9585\u001b[0m         \"\"\"\n\u001b[0;32m-> 9586\u001b[0;31m         \u001b[0;32mreturn\u001b[0m \u001b[0mself\u001b[0m\u001b[0;34m.\u001b[0m\u001b[0mlazy\u001b[0m\u001b[0;34m(\u001b[0m\u001b[0;34m)\u001b[0m\u001b[0;34m.\u001b[0m\u001b[0mwith_columns\u001b[0m\u001b[0;34m(\u001b[0m\u001b[0;34m*\u001b[0m\u001b[0mexprs\u001b[0m\u001b[0;34m,\u001b[0m \u001b[0;34m**\u001b[0m\u001b[0mnamed_exprs\u001b[0m\u001b[0;34m)\u001b[0m\u001b[0;34m.\u001b[0m\u001b[0mcollect\u001b[0m\u001b[0;34m(\u001b[0m\u001b[0m_eager\u001b[0m\u001b[0;34m=\u001b[0m\u001b[0;32mTrue\u001b[0m\u001b[0;34m)\u001b[0m\u001b[0;34m\u001b[0m\u001b[0;34m\u001b[0m\u001b[0m\n\u001b[0m\u001b[1;32m   9587\u001b[0m \u001b[0;34m\u001b[0m\u001b[0m\n\u001b[1;32m   9588\u001b[0m     def with_columns_seq(\n",
            "\u001b[0;32m/usr/local/lib/python3.11/dist-packages/polars/lazyframe/frame.py\u001b[0m in \u001b[0;36mcollect\u001b[0;34m(self, type_coercion, _type_check, predicate_pushdown, projection_pushdown, simplify_expression, slice_pushdown, comm_subplan_elim, comm_subexpr_elim, cluster_with_columns, collapse_joins, no_optimization, streaming, engine, background, _check_order, _eager, **_kwargs)\u001b[0m\n\u001b[1;32m   2054\u001b[0m         \u001b[0;31m# Only for testing purposes\u001b[0m\u001b[0;34m\u001b[0m\u001b[0;34m\u001b[0m\u001b[0m\n\u001b[1;32m   2055\u001b[0m         \u001b[0mcallback\u001b[0m \u001b[0;34m=\u001b[0m \u001b[0m_kwargs\u001b[0m\u001b[0;34m.\u001b[0m\u001b[0mget\u001b[0m\u001b[0;34m(\u001b[0m\u001b[0;34m\"post_opt_callback\"\u001b[0m\u001b[0;34m,\u001b[0m \u001b[0mcallback\u001b[0m\u001b[0;34m)\u001b[0m\u001b[0;34m\u001b[0m\u001b[0;34m\u001b[0m\u001b[0m\n\u001b[0;32m-> 2056\u001b[0;31m         \u001b[0;32mreturn\u001b[0m \u001b[0mwrap_df\u001b[0m\u001b[0;34m(\u001b[0m\u001b[0mldf\u001b[0m\u001b[0;34m.\u001b[0m\u001b[0mcollect\u001b[0m\u001b[0;34m(\u001b[0m\u001b[0mcallback\u001b[0m\u001b[0;34m)\u001b[0m\u001b[0;34m)\u001b[0m\u001b[0;34m\u001b[0m\u001b[0;34m\u001b[0m\u001b[0m\n\u001b[0m\u001b[1;32m   2057\u001b[0m \u001b[0;34m\u001b[0m\u001b[0m\n\u001b[1;32m   2058\u001b[0m     \u001b[0;34m@\u001b[0m\u001b[0moverload\u001b[0m\u001b[0;34m\u001b[0m\u001b[0;34m\u001b[0m\u001b[0m\n",
            "\u001b[0;31mInvalidOperationError\u001b[0m: conversion from `str` to `datetime[μs]` failed in column 'Data_Pedido' for 1592 out of 1592 values: [\"2012-07-31 00:00:00.000000\", \"2013-02-05 00:00:00.000000\", … \"2012-08-09 00:00:00.000000\"]\n\nYou might want to try:\n- setting `strict=False` to set values that cannot be converted to `null`\n- using `str.strptime`, `str.to_date`, or `str.to_datetime` and providing a format string"
          ]
        }
      ]
    },
    {
      "cell_type": "code",
      "source": [
        "display(vendas.head(51291))"
      ],
      "metadata": {
        "id": "LHna7gd-gdQr"
      },
      "execution_count": null,
      "outputs": []
    },
    {
      "cell_type": "code",
      "source": [
        "#Pergunta 1 - Qual o valor total vendido?\n"
      ],
      "metadata": {
        "id": "fOUtPnlYfl8C"
      },
      "execution_count": null,
      "outputs": []
    }
  ]
}